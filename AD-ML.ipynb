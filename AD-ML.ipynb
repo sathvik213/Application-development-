{
 "cells": [
  {
   "cell_type": "code",
   "execution_count": 21,
   "metadata": {
    "execution": {
     "iopub.execute_input": "2022-11-03T08:32:10.214806Z",
     "iopub.status.busy": "2022-11-03T08:32:10.214352Z",
     "iopub.status.idle": "2022-11-03T08:32:10.225453Z",
     "shell.execute_reply": "2022-11-03T08:32:10.224157Z",
     "shell.execute_reply.started": "2022-11-03T08:32:10.214773Z"
    },
    "id": "zfnjCfA7qg1z"
   },
   "outputs": [],
   "source": [
    "import pandas as pd\n",
    "import numpy as np\n",
    "import warnings\n",
    "import matplotlib.pyplot as plt\n",
    "from sklearn.linear_model import LogisticRegression \n",
    "from sklearn.model_selection import train_test_split\n",
    "from sklearn.metrics import confusion_matrix, classification_report\n",
    "from sklearn.metrics import accuracy_score\n",
    "from sklearn.metrics import confusion_matrix, plot_confusion_matrix, ConfusionMatrixDisplay\n",
    "from sklearn import metrics\n",
    "from sklearn.neighbors import KNeighborsClassifier\n",
    "import seaborn as sns\n",
    "warnings.filterwarnings(\"ignore\")"
   ]
  },
  {
   "cell_type": "code",
   "execution_count": 22,
   "metadata": {
    "execution": {
     "iopub.execute_input": "2022-11-03T08:32:10.274545Z",
     "iopub.status.busy": "2022-11-03T08:32:10.273442Z",
     "iopub.status.idle": "2022-11-03T08:32:10.379901Z",
     "shell.execute_reply": "2022-11-03T08:32:10.378729Z",
     "shell.execute_reply.started": "2022-11-03T08:32:10.274504Z"
    },
    "id": "O72kFq1LuZgy",
    "outputId": "c905f4f6-b8d2-4723-b928-85ddb492c38a"
   },
   "outputs": [
    {
     "data": {
      "text/html": [
       "<div>\n",
       "<style scoped>\n",
       "    .dataframe tbody tr th:only-of-type {\n",
       "        vertical-align: middle;\n",
       "    }\n",
       "\n",
       "    .dataframe tbody tr th {\n",
       "        vertical-align: top;\n",
       "    }\n",
       "\n",
       "    .dataframe thead th {\n",
       "        text-align: right;\n",
       "    }\n",
       "</style>\n",
       "<table border=\"1\" class=\"dataframe\">\n",
       "  <thead>\n",
       "    <tr style=\"text-align: right;\">\n",
       "      <th></th>\n",
       "      <th>id</th>\n",
       "      <th>age</th>\n",
       "      <th>gender</th>\n",
       "      <th>height</th>\n",
       "      <th>weight</th>\n",
       "      <th>ap_hi</th>\n",
       "      <th>ap_lo</th>\n",
       "      <th>cholesterol</th>\n",
       "      <th>gluc</th>\n",
       "      <th>smoke</th>\n",
       "      <th>alco</th>\n",
       "      <th>active</th>\n",
       "      <th>cardio</th>\n",
       "    </tr>\n",
       "  </thead>\n",
       "  <tbody>\n",
       "    <tr>\n",
       "      <th>0</th>\n",
       "      <td>0</td>\n",
       "      <td>18393</td>\n",
       "      <td>2</td>\n",
       "      <td>168</td>\n",
       "      <td>62.0</td>\n",
       "      <td>110</td>\n",
       "      <td>80</td>\n",
       "      <td>1</td>\n",
       "      <td>1</td>\n",
       "      <td>0</td>\n",
       "      <td>0</td>\n",
       "      <td>1</td>\n",
       "      <td>0</td>\n",
       "    </tr>\n",
       "    <tr>\n",
       "      <th>1</th>\n",
       "      <td>1</td>\n",
       "      <td>20228</td>\n",
       "      <td>1</td>\n",
       "      <td>156</td>\n",
       "      <td>85.0</td>\n",
       "      <td>140</td>\n",
       "      <td>90</td>\n",
       "      <td>3</td>\n",
       "      <td>1</td>\n",
       "      <td>0</td>\n",
       "      <td>0</td>\n",
       "      <td>1</td>\n",
       "      <td>1</td>\n",
       "    </tr>\n",
       "    <tr>\n",
       "      <th>2</th>\n",
       "      <td>2</td>\n",
       "      <td>18857</td>\n",
       "      <td>1</td>\n",
       "      <td>165</td>\n",
       "      <td>64.0</td>\n",
       "      <td>130</td>\n",
       "      <td>70</td>\n",
       "      <td>3</td>\n",
       "      <td>1</td>\n",
       "      <td>0</td>\n",
       "      <td>0</td>\n",
       "      <td>0</td>\n",
       "      <td>1</td>\n",
       "    </tr>\n",
       "    <tr>\n",
       "      <th>3</th>\n",
       "      <td>3</td>\n",
       "      <td>17623</td>\n",
       "      <td>2</td>\n",
       "      <td>169</td>\n",
       "      <td>82.0</td>\n",
       "      <td>150</td>\n",
       "      <td>100</td>\n",
       "      <td>1</td>\n",
       "      <td>1</td>\n",
       "      <td>0</td>\n",
       "      <td>0</td>\n",
       "      <td>1</td>\n",
       "      <td>1</td>\n",
       "    </tr>\n",
       "    <tr>\n",
       "      <th>4</th>\n",
       "      <td>4</td>\n",
       "      <td>17474</td>\n",
       "      <td>1</td>\n",
       "      <td>156</td>\n",
       "      <td>56.0</td>\n",
       "      <td>100</td>\n",
       "      <td>60</td>\n",
       "      <td>1</td>\n",
       "      <td>1</td>\n",
       "      <td>0</td>\n",
       "      <td>0</td>\n",
       "      <td>0</td>\n",
       "      <td>0</td>\n",
       "    </tr>\n",
       "  </tbody>\n",
       "</table>\n",
       "</div>"
      ],
      "text/plain": [
       "   id    age  gender  height  weight  ap_hi  ap_lo  cholesterol  gluc  smoke  \\\n",
       "0   0  18393       2     168    62.0    110     80            1     1      0   \n",
       "1   1  20228       1     156    85.0    140     90            3     1      0   \n",
       "2   2  18857       1     165    64.0    130     70            3     1      0   \n",
       "3   3  17623       2     169    82.0    150    100            1     1      0   \n",
       "4   4  17474       1     156    56.0    100     60            1     1      0   \n",
       "\n",
       "   alco  active  cardio  \n",
       "0     0       1       0  \n",
       "1     0       1       1  \n",
       "2     0       0       1  \n",
       "3     0       1       1  \n",
       "4     0       0       0  "
      ]
     },
     "execution_count": 22,
     "metadata": {},
     "output_type": "execute_result"
    }
   ],
   "source": [
    "cardio = pd.read_csv(\"cardio_train.csv\",delimiter=\";\")\n",
    "\n",
    "cardio.head()"
   ]
  },
  {
   "cell_type": "code",
   "execution_count": 23,
   "metadata": {
    "execution": {
     "iopub.execute_input": "2022-11-03T08:32:10.382312Z",
     "iopub.status.busy": "2022-11-03T08:32:10.381962Z",
     "iopub.status.idle": "2022-11-03T08:32:10.410797Z",
     "shell.execute_reply": "2022-11-03T08:32:10.409399Z",
     "shell.execute_reply.started": "2022-11-03T08:32:10.382282Z"
    },
    "id": "2U0yDBd-vKmB",
    "outputId": "401689ef-fce6-48af-8680-e30a95cb34da"
   },
   "outputs": [
    {
     "name": "stdout",
     "output_type": "stream",
     "text": [
      "<class 'pandas.core.frame.DataFrame'>\n",
      "RangeIndex: 70000 entries, 0 to 69999\n",
      "Data columns (total 13 columns):\n",
      " #   Column       Non-Null Count  Dtype  \n",
      "---  ------       --------------  -----  \n",
      " 0   id           70000 non-null  int64  \n",
      " 1   age          70000 non-null  int64  \n",
      " 2   gender       70000 non-null  int64  \n",
      " 3   height       70000 non-null  int64  \n",
      " 4   weight       70000 non-null  float64\n",
      " 5   ap_hi        70000 non-null  int64  \n",
      " 6   ap_lo        70000 non-null  int64  \n",
      " 7   cholesterol  70000 non-null  int64  \n",
      " 8   gluc         70000 non-null  int64  \n",
      " 9   smoke        70000 non-null  int64  \n",
      " 10  alco         70000 non-null  int64  \n",
      " 11  active       70000 non-null  int64  \n",
      " 12  cardio       70000 non-null  int64  \n",
      "dtypes: float64(1), int64(12)\n",
      "memory usage: 6.9 MB\n"
     ]
    }
   ],
   "source": [
    "cardio.info()"
   ]
  },
  {
   "cell_type": "markdown",
   "metadata": {
    "id": "Y6ULzEsrP4xt"
   },
   "source": [
    "# 1 - Data Preprocessing and Exploratory Data Analysis <a class=\"anchor\"  id=\"bir\"></a>"
   ]
  },
  {
   "cell_type": "code",
   "execution_count": 24,
   "metadata": {
    "execution": {
     "iopub.execute_input": "2022-11-03T08:32:10.412227Z",
     "iopub.status.busy": "2022-11-03T08:32:10.411885Z",
     "iopub.status.idle": "2022-11-03T08:32:10.450311Z",
     "shell.execute_reply": "2022-11-03T08:32:10.448992Z",
     "shell.execute_reply.started": "2022-11-03T08:32:10.412197Z"
    },
    "id": "Q6tL48gYRZeD",
    "outputId": "b9926be1-4faf-447e-9ad7-a3e56bc31507",
    "scrolled": true
   },
   "outputs": [
    {
     "name": "stdout",
     "output_type": "stream",
     "text": [
      "Number of entries in the dataframe:  910000\n",
      "Missing values:  0 \n",
      "\n",
      "Dataset contains no Duplicate Values\n"
     ]
    }
   ],
   "source": [
    "num_entries = cardio.shape[0]*cardio.shape[1]\n",
    "print('Number of entries in the dataframe: ', num_entries)\n",
    "\n",
    "num_missing_values = cardio.isna().sum().sum()\n",
    "print('Missing values: ', num_missing_values, '\\n')\n",
    "\n",
    "cardio_dup = cardio.duplicated().sum()\n",
    "if cardio_dup:\n",
    "    print('Duplicates Rows in Dataset are : {}'.format(cardio_dup))\n",
    "else:\n",
    "    print('Dataset contains no Duplicate Values')"
   ]
  },
  {
   "cell_type": "code",
   "execution_count": 25,
   "metadata": {
    "execution": {
     "iopub.execute_input": "2022-11-03T08:32:10.453753Z",
     "iopub.status.busy": "2022-11-03T08:32:10.452715Z",
     "iopub.status.idle": "2022-11-03T08:32:10.491548Z",
     "shell.execute_reply": "2022-11-03T08:32:10.490149Z",
     "shell.execute_reply.started": "2022-11-03T08:32:10.453711Z"
    },
    "id": "NtxBcXHSRRAl"
   },
   "outputs": [],
   "source": [
    "cardio.drop_duplicates(inplace=True)\n",
    "\n",
    "cardio.drop(['id'], axis=1,inplace=True)"
   ]
  },
  {
   "cell_type": "code",
   "execution_count": 26,
   "metadata": {
    "execution": {
     "iopub.execute_input": "2022-11-03T08:32:10.494937Z",
     "iopub.status.busy": "2022-11-03T08:32:10.494519Z",
     "iopub.status.idle": "2022-11-03T08:32:10.569643Z",
     "shell.execute_reply": "2022-11-03T08:32:10.568508Z",
     "shell.execute_reply.started": "2022-11-03T08:32:10.494901Z"
    },
    "id": "hR3qHo75vRmI",
    "outputId": "a672a227-7ff1-4865-8332-707746fb2238"
   },
   "outputs": [
    {
     "data": {
      "text/html": [
       "<div>\n",
       "<style scoped>\n",
       "    .dataframe tbody tr th:only-of-type {\n",
       "        vertical-align: middle;\n",
       "    }\n",
       "\n",
       "    .dataframe tbody tr th {\n",
       "        vertical-align: top;\n",
       "    }\n",
       "\n",
       "    .dataframe thead th {\n",
       "        text-align: right;\n",
       "    }\n",
       "</style>\n",
       "<table border=\"1\" class=\"dataframe\">\n",
       "  <thead>\n",
       "    <tr style=\"text-align: right;\">\n",
       "      <th></th>\n",
       "      <th>age</th>\n",
       "      <th>gender</th>\n",
       "      <th>height</th>\n",
       "      <th>weight</th>\n",
       "      <th>ap_hi</th>\n",
       "      <th>ap_lo</th>\n",
       "      <th>cholesterol</th>\n",
       "      <th>gluc</th>\n",
       "      <th>smoke</th>\n",
       "      <th>alco</th>\n",
       "      <th>active</th>\n",
       "      <th>cardio</th>\n",
       "    </tr>\n",
       "  </thead>\n",
       "  <tbody>\n",
       "    <tr>\n",
       "      <th>count</th>\n",
       "      <td>70000.000000</td>\n",
       "      <td>70000.000000</td>\n",
       "      <td>70000.000000</td>\n",
       "      <td>70000.000000</td>\n",
       "      <td>70000.000000</td>\n",
       "      <td>70000.000000</td>\n",
       "      <td>70000.000000</td>\n",
       "      <td>70000.000000</td>\n",
       "      <td>70000.000000</td>\n",
       "      <td>70000.000000</td>\n",
       "      <td>70000.000000</td>\n",
       "      <td>70000.000000</td>\n",
       "    </tr>\n",
       "    <tr>\n",
       "      <th>mean</th>\n",
       "      <td>19468.865814</td>\n",
       "      <td>1.349571</td>\n",
       "      <td>164.359229</td>\n",
       "      <td>74.205690</td>\n",
       "      <td>128.817286</td>\n",
       "      <td>96.630414</td>\n",
       "      <td>1.366871</td>\n",
       "      <td>1.226457</td>\n",
       "      <td>0.088129</td>\n",
       "      <td>0.053771</td>\n",
       "      <td>0.803729</td>\n",
       "      <td>0.499700</td>\n",
       "    </tr>\n",
       "    <tr>\n",
       "      <th>std</th>\n",
       "      <td>2467.251667</td>\n",
       "      <td>0.476838</td>\n",
       "      <td>8.210126</td>\n",
       "      <td>14.395757</td>\n",
       "      <td>154.011419</td>\n",
       "      <td>188.472530</td>\n",
       "      <td>0.680250</td>\n",
       "      <td>0.572270</td>\n",
       "      <td>0.283484</td>\n",
       "      <td>0.225568</td>\n",
       "      <td>0.397179</td>\n",
       "      <td>0.500003</td>\n",
       "    </tr>\n",
       "    <tr>\n",
       "      <th>min</th>\n",
       "      <td>10798.000000</td>\n",
       "      <td>1.000000</td>\n",
       "      <td>55.000000</td>\n",
       "      <td>10.000000</td>\n",
       "      <td>-150.000000</td>\n",
       "      <td>-70.000000</td>\n",
       "      <td>1.000000</td>\n",
       "      <td>1.000000</td>\n",
       "      <td>0.000000</td>\n",
       "      <td>0.000000</td>\n",
       "      <td>0.000000</td>\n",
       "      <td>0.000000</td>\n",
       "    </tr>\n",
       "    <tr>\n",
       "      <th>25%</th>\n",
       "      <td>17664.000000</td>\n",
       "      <td>1.000000</td>\n",
       "      <td>159.000000</td>\n",
       "      <td>65.000000</td>\n",
       "      <td>120.000000</td>\n",
       "      <td>80.000000</td>\n",
       "      <td>1.000000</td>\n",
       "      <td>1.000000</td>\n",
       "      <td>0.000000</td>\n",
       "      <td>0.000000</td>\n",
       "      <td>1.000000</td>\n",
       "      <td>0.000000</td>\n",
       "    </tr>\n",
       "    <tr>\n",
       "      <th>50%</th>\n",
       "      <td>19703.000000</td>\n",
       "      <td>1.000000</td>\n",
       "      <td>165.000000</td>\n",
       "      <td>72.000000</td>\n",
       "      <td>120.000000</td>\n",
       "      <td>80.000000</td>\n",
       "      <td>1.000000</td>\n",
       "      <td>1.000000</td>\n",
       "      <td>0.000000</td>\n",
       "      <td>0.000000</td>\n",
       "      <td>1.000000</td>\n",
       "      <td>0.000000</td>\n",
       "    </tr>\n",
       "    <tr>\n",
       "      <th>75%</th>\n",
       "      <td>21327.000000</td>\n",
       "      <td>2.000000</td>\n",
       "      <td>170.000000</td>\n",
       "      <td>82.000000</td>\n",
       "      <td>140.000000</td>\n",
       "      <td>90.000000</td>\n",
       "      <td>2.000000</td>\n",
       "      <td>1.000000</td>\n",
       "      <td>0.000000</td>\n",
       "      <td>0.000000</td>\n",
       "      <td>1.000000</td>\n",
       "      <td>1.000000</td>\n",
       "    </tr>\n",
       "    <tr>\n",
       "      <th>max</th>\n",
       "      <td>23713.000000</td>\n",
       "      <td>2.000000</td>\n",
       "      <td>250.000000</td>\n",
       "      <td>200.000000</td>\n",
       "      <td>16020.000000</td>\n",
       "      <td>11000.000000</td>\n",
       "      <td>3.000000</td>\n",
       "      <td>3.000000</td>\n",
       "      <td>1.000000</td>\n",
       "      <td>1.000000</td>\n",
       "      <td>1.000000</td>\n",
       "      <td>1.000000</td>\n",
       "    </tr>\n",
       "  </tbody>\n",
       "</table>\n",
       "</div>"
      ],
      "text/plain": [
       "                age        gender        height        weight         ap_hi  \\\n",
       "count  70000.000000  70000.000000  70000.000000  70000.000000  70000.000000   \n",
       "mean   19468.865814      1.349571    164.359229     74.205690    128.817286   \n",
       "std     2467.251667      0.476838      8.210126     14.395757    154.011419   \n",
       "min    10798.000000      1.000000     55.000000     10.000000   -150.000000   \n",
       "25%    17664.000000      1.000000    159.000000     65.000000    120.000000   \n",
       "50%    19703.000000      1.000000    165.000000     72.000000    120.000000   \n",
       "75%    21327.000000      2.000000    170.000000     82.000000    140.000000   \n",
       "max    23713.000000      2.000000    250.000000    200.000000  16020.000000   \n",
       "\n",
       "              ap_lo   cholesterol          gluc         smoke          alco  \\\n",
       "count  70000.000000  70000.000000  70000.000000  70000.000000  70000.000000   \n",
       "mean      96.630414      1.366871      1.226457      0.088129      0.053771   \n",
       "std      188.472530      0.680250      0.572270      0.283484      0.225568   \n",
       "min      -70.000000      1.000000      1.000000      0.000000      0.000000   \n",
       "25%       80.000000      1.000000      1.000000      0.000000      0.000000   \n",
       "50%       80.000000      1.000000      1.000000      0.000000      0.000000   \n",
       "75%       90.000000      2.000000      1.000000      0.000000      0.000000   \n",
       "max    11000.000000      3.000000      3.000000      1.000000      1.000000   \n",
       "\n",
       "             active        cardio  \n",
       "count  70000.000000  70000.000000  \n",
       "mean       0.803729      0.499700  \n",
       "std        0.397179      0.500003  \n",
       "min        0.000000      0.000000  \n",
       "25%        1.000000      0.000000  \n",
       "50%        1.000000      0.000000  \n",
       "75%        1.000000      1.000000  \n",
       "max        1.000000      1.000000  "
      ]
     },
     "execution_count": 26,
     "metadata": {},
     "output_type": "execute_result"
    }
   ],
   "source": [
    "cardio.describe()"
   ]
  },
  {
   "cell_type": "code",
   "execution_count": 27,
   "metadata": {
    "execution": {
     "iopub.execute_input": "2022-11-03T08:32:10.571990Z",
     "iopub.status.busy": "2022-11-03T08:32:10.571370Z",
     "iopub.status.idle": "2022-11-03T08:32:10.601370Z",
     "shell.execute_reply": "2022-11-03T08:32:10.600148Z",
     "shell.execute_reply.started": "2022-11-03T08:32:10.571956Z"
    },
    "id": "_0XFf1QcWIvd"
   },
   "outputs": [],
   "source": [
    "cardio['age'] = cardio['age'].apply(lambda x: x/365)  "
   ]
  },
  {
   "cell_type": "code",
   "execution_count": 28,
   "metadata": {
    "execution": {
     "iopub.execute_input": "2022-11-03T08:32:10.603597Z",
     "iopub.status.busy": "2022-11-03T08:32:10.602772Z",
     "iopub.status.idle": "2022-11-03T08:32:10.615226Z",
     "shell.execute_reply": "2022-11-03T08:32:10.613790Z",
     "shell.execute_reply.started": "2022-11-03T08:32:10.603563Z"
    },
    "id": "6BgZ1XphWb55",
    "outputId": "3bc53aae-dcbe-42b1-a5da-ba5147b289f1"
   },
   "outputs": [
    {
     "name": "stdout",
     "output_type": "stream",
     "text": [
      "we have total 1275 outliers\n",
      "percent missing: 1.8%\n"
     ]
    }
   ],
   "source": [
    "outliers = len(cardio[(cardio[\"ap_hi\"]>=280) | (cardio[\"ap_lo\"]>=220) | (cardio[\"ap_lo\"] < 0) | (cardio[\"ap_hi\"] < 0) | (cardio[\"ap_hi\"]<cardio[\"ap_lo\"])])\n",
    "\n",
    "print(f'we have total {outliers} outliers')\n",
    "print(f'percent missing: {round(outliers/len(cardio)*100,1)}%')"
   ]
  },
  {
   "cell_type": "code",
   "execution_count": 29,
   "metadata": {
    "execution": {
     "iopub.execute_input": "2022-11-03T08:32:10.617253Z",
     "iopub.status.busy": "2022-11-03T08:32:10.616905Z",
     "iopub.status.idle": "2022-11-03T08:32:10.640328Z",
     "shell.execute_reply": "2022-11-03T08:32:10.638930Z",
     "shell.execute_reply.started": "2022-11-03T08:32:10.617222Z"
    },
    "id": "4ESYJqaFEYgc"
   },
   "outputs": [],
   "source": [
    "#Filtering out the unrealistic data of Systolic blood pressure and Diastolic blood pressure\n",
    "cardio = cardio[ (cardio['ap_lo'] >= 0) & (cardio['ap_hi'] >= 0) ]  #remove negative values\n",
    "cardio = cardio[ (cardio['ap_lo'] <= 220) & (cardio['ap_hi'] <= 280) ]  #remove fishy data points\n",
    "cardio = cardio[ (cardio['ap_lo'] < cardio['ap_hi']) ]  #remove systolic higher than diastolic\n"
   ]
  },
  {
   "cell_type": "code",
   "execution_count": 30,
   "metadata": {
    "execution": {
     "iopub.execute_input": "2022-11-03T08:32:10.643199Z",
     "iopub.status.busy": "2022-11-03T08:32:10.642730Z",
     "iopub.status.idle": "2022-11-03T08:32:10.672302Z",
     "shell.execute_reply": "2022-11-03T08:32:10.671140Z",
     "shell.execute_reply.started": "2022-11-03T08:32:10.643155Z"
    },
    "id": "1xv7x-DxG3ls"
   },
   "outputs": [],
   "source": [
    "Q1_hi = cardio['ap_hi'].quantile(0.05) # 5th percentile of the data of the given feature\n",
    "Q3_hi = cardio['ap_hi'].quantile(0.95)  # 95th percentile of the data of the given feature\n",
    "IQR_hi = Q3_hi - Q1_hi\n",
    "lower, upper = Q1_hi - 1.5 * IQR_hi, Q3_hi + 1.5 * IQR_hi\n",
    "cardio = cardio[(cardio['ap_hi'] >= lower) & (cardio['ap_hi'] <= upper)]  \n",
    "\n",
    "Q1_lo = cardio['ap_lo'].quantile(0.05) # 5th percentile of the data of the given feature\n",
    "Q3_lo = cardio['ap_lo'].quantile(0.95)  # 95th percentile of the data of the given feature\n",
    "IQR_lo = Q3_lo - Q1_lo\n",
    "lower, upper = Q1_lo - 1.5 * IQR_lo, Q3_lo + 1.5 * IQR_lo\n",
    "cardio = cardio[(cardio['ap_lo'] >= lower) & (cardio['ap_lo'] <= upper)]  "
   ]
  },
  {
   "cell_type": "code",
   "execution_count": 31,
   "metadata": {
    "execution": {
     "iopub.execute_input": "2022-11-03T08:32:10.674567Z",
     "iopub.status.busy": "2022-11-03T08:32:10.674161Z",
     "iopub.status.idle": "2022-11-03T08:32:12.404241Z",
     "shell.execute_reply": "2022-11-03T08:32:12.402918Z",
     "shell.execute_reply.started": "2022-11-03T08:32:10.674535Z"
    },
    "id": "t5DgZMOwG2KD",
    "outputId": "b0c33b4c-47e6-4b2c-d850-221cf0873681"
   },
   "outputs": [
    {
     "data": {
      "image/png": "[encoded data removed]",
      "text/plain": [
       "<Figure size 432x432 with 3 Axes>"
      ]
     },
     "metadata": {
      "needs_background": "light"
     },
     "output_type": "display_data"
    }
   ],
   "source": [
    "sns.jointplot(x='ap_hi', y='ap_lo', data=cardio);"
   ]
  },
  {
   "cell_type": "code",
   "execution_count": 32,
   "metadata": {
    "execution": {
     "iopub.execute_input": "2022-11-03T08:32:12.406301Z",
     "iopub.status.busy": "2022-11-03T08:32:12.405841Z",
     "iopub.status.idle": "2022-11-03T08:32:12.761921Z",
     "shell.execute_reply": "2022-11-03T08:32:12.760549Z",
     "shell.execute_reply.started": "2022-11-03T08:32:12.406258Z"
    },
    "id": "yBJpf9nVSS9e",
    "outputId": "406d3252-0be2-457d-bbaf-bd505cb8cdd7"
   },
   "outputs": [
    {
     "data": {
      "text/plain": [
       "<AxesSubplot:>"
      ]
     },
     "execution_count": 32,
     "metadata": {},
     "output_type": "execute_result"
    },
    {
     "data": {
      "image/png": "[encoded data removed]",
      "text/plain": [
       "<Figure size 1080x360 with 1 Axes>"
      ]
     },
     "metadata": {
      "needs_background": "light"
     },
     "output_type": "display_data"
    }
   ],
   "source": [
    "plt.figure(figsize=(15,5))\n",
    "cardio.boxplot(['weight','height'])"
   ]
  },
  {
   "cell_type": "code",
   "execution_count": 33,
   "metadata": {
    "execution": {
     "iopub.execute_input": "2022-11-03T08:32:12.776345Z",
     "iopub.status.busy": "2022-11-03T08:32:12.775451Z",
     "iopub.status.idle": "2022-11-03T08:32:12.859013Z",
     "shell.execute_reply": "2022-11-03T08:32:12.856793Z",
     "shell.execute_reply.started": "2022-11-03T08:32:12.776305Z"
    },
    "id": "QJNV04gkTb5J",
    "outputId": "90aa836e-0e74-404f-f58b-3b402952054c"
   },
   "outputs": [
    {
     "name": "stdout",
     "output_type": "stream",
     "text": [
      "Feature: height-------------\n",
      "Percentiles: 5th=152.0, 95th=178.0, IQR=26.0\n",
      "Identified outliers: 46 \n",
      "\n",
      "Feature: weight-------------\n",
      "Percentiles: 5th=55.0, 95th=100.0, IQR=45.0\n",
      "Identified outliers: 20 \n",
      "\n"
     ]
    }
   ],
   "source": [
    "#-------------------2.Variant------------------------------------------------\n",
    "#Function that detects the outlier given interquartile range\n",
    "def detect_outliers(df,q1,q3):\n",
    "  for col in df.columns:\n",
    "    df_feature = df[col]\n",
    "    Q1 = df_feature.quantile(q1) # 25th percentile of the data of the given feature\n",
    "    Q3 = df_feature.quantile(q3)  # 75th percentile of the data of the given feature\n",
    "    IQR = Q3 - Q1    #IQR is interquartile range. \n",
    "    print(f'Feature: {col}-------------')\n",
    "    print(f'Percentiles: {int(q1*100)}th={Q1}, {int(q3*100)}th={Q3}, IQR={IQR}')\n",
    "    # calculate the outlier lower and upper bound\n",
    "    lower, upper = Q1 - 1.5 * IQR, Q3 + 1.5 * IQR\n",
    "    # identify outliers\n",
    "    outliers = [x for x in df_feature if x < lower or x > upper]\n",
    "    print('Identified outliers: %d \\n' % len(outliers))\n",
    "\n",
    "  \n",
    "detect_outliers(cardio[['height', 'weight']],0.05,0.95)"
   ]
  },
  {
   "cell_type": "code",
   "execution_count": 34,
   "metadata": {
    "execution": {
     "iopub.execute_input": "2022-11-03T08:32:12.866205Z",
     "iopub.status.busy": "2022-11-03T08:32:12.865821Z",
     "iopub.status.idle": "2022-11-03T08:32:12.895820Z",
     "shell.execute_reply": "2022-11-03T08:32:12.894524Z",
     "shell.execute_reply.started": "2022-11-03T08:32:12.866172Z"
    },
    "id": "yqMh0Wpz_cH1"
   },
   "outputs": [],
   "source": [
    "cardio_cleaned = cardio \n",
    "for col in ['height','weight']:\n",
    "  Q1 = cardio[col].quantile(0.05) # 5th percentile of the data of the given feature\n",
    "  Q3 = cardio[col].quantile(0.95)  # 95th percentile of the data of the given feature\n",
    "  IQR = Q3 - Q1\n",
    "  lower, upper = Q1 - 1.5 * IQR, Q3 + 1.5 * IQR\n",
    "  cardio_cleaned = cardio_cleaned[(cardio_cleaned[col] >= lower) & (cardio_cleaned[col] <= upper)]  \n"
   ]
  },
  {
   "cell_type": "code",
   "execution_count": 35,
   "metadata": {
    "execution": {
     "iopub.execute_input": "2022-11-03T08:32:12.947407Z",
     "iopub.status.busy": "2022-11-03T08:32:12.946923Z",
     "iopub.status.idle": "2022-11-03T08:32:14.462325Z",
     "shell.execute_reply": "2022-11-03T08:32:14.461001Z",
     "shell.execute_reply.started": "2022-11-03T08:32:12.947366Z"
    },
    "id": "SpA7a5IFH51d",
    "outputId": "88df4b8c-be97-4db4-bb80-0ddd6291b53b"
   },
   "outputs": [
    {
     "data": {
      "image/png": "[encoded data removed]",
      "text/plain": [
       "<Figure size 432x432 with 3 Axes>"
      ]
     },
     "metadata": {
      "needs_background": "light"
     },
     "output_type": "display_data"
    }
   ],
   "source": [
    "#To study the joint distribution of two numerical features, the jointplot of the Seaborn library can be useful:\n",
    "sns.jointplot(x='height', y='weight', data=cardio_cleaned);"
   ]
  },
  {
   "cell_type": "code",
   "execution_count": 36,
   "metadata": {
    "execution": {
     "iopub.execute_input": "2022-11-03T08:32:14.464247Z",
     "iopub.status.busy": "2022-11-03T08:32:14.463719Z",
     "iopub.status.idle": "2022-11-03T08:32:14.675423Z",
     "shell.execute_reply": "2022-11-03T08:32:14.674405Z",
     "shell.execute_reply.started": "2022-11-03T08:32:14.464213Z"
    },
    "id": "K-p2r7gFOp95",
    "outputId": "d92d376a-df55-4811-97a2-91af343f88d4",
    "scrolled": true
   },
   "outputs": [],
   "source": [
    "cardio_cleaned = cardio \n",
    "for col in ['height','weight']:\n",
    "  Q1 = cardio[col].quantile(0.05) # 5th percentile of the data of the given feature\n",
    "  Q3 = cardio[col].quantile(0.95)  # 95th percentile of the data of the given feature\n",
    "  IQR = Q3 - Q1\n",
    "  lower, upper = Q1 - 1.5 * IQR, Q3 + 1.5 * IQR\n",
    "  cardio_cleaned = cardio_cleaned[(cardio_cleaned[col] >= lower) & (cardio_cleaned[col] <= upper)]  "
   ]
  },
  {
   "cell_type": "code",
   "execution_count": 18,
   "metadata": {
    "execution": {
     "iopub.execute_input": "2022-11-03T08:32:15.792289Z",
     "iopub.status.busy": "2022-11-03T08:32:15.791949Z",
     "iopub.status.idle": "2022-11-03T08:32:15.879329Z",
     "shell.execute_reply": "2022-11-03T08:32:15.878415Z",
     "shell.execute_reply.started": "2022-11-03T08:32:15.792259Z"
    },
    "id": "WCPmYz5Jfkzg",
    "outputId": "b8e3e7be-8291-475f-e845-3684c208a0b3"
   },
   "outputs": [
    {
     "name": "stdout",
     "output_type": "stream",
     "text": [
      "X_train shape is  (54886, 11)\n",
      "X_test shape is  (13722, 11)\n",
      "y_train shape is  (54886,)\n",
      "y_test shape is  (13722,)\n"
     ]
    }
   ],
   "source": [
    "X = cardio_cleaned.drop(['cardio'], axis=1) \n",
    "y = cardio_cleaned['cardio']  \n",
    "\n",
    "X_train, X_test, y_train, y_test = train_test_split(X, y, test_size=0.2, random_state=42, shuffle = True)\n",
    "\n",
    "\n",
    "\n",
    "print('X_train shape is ' , X_train.shape)\n",
    "print('X_test shape is ' , X_test.shape)\n",
    "print('y_train shape is ' , y_train.shape)\n",
    "print('y_test shape is ' , y_test.shape)"
   ]
  },
  {
   "cell_type": "code",
   "execution_count": 19,
   "metadata": {
    "execution": {
     "iopub.execute_input": "2022-11-03T08:32:15.881418Z",
     "iopub.status.busy": "2022-11-03T08:32:15.880770Z",
     "iopub.status.idle": "2022-11-03T08:32:17.191886Z",
     "shell.execute_reply": "2022-11-03T08:32:17.190822Z",
     "shell.execute_reply.started": "2022-11-03T08:32:15.881374Z"
    },
    "id": "KUJeAXnludpv",
    "outputId": "b442da39-5529-425b-8f2a-0ba17069d065",
    "scrolled": true
   },
   "outputs": [
    {
     "name": "stdout",
     "output_type": "stream",
     "text": [
      "The accuracy score is: 0.7135986007870573\n",
      "Sensitivity (TPR) = 0.6645466646945718\n",
      "\n",
      " Confusion matrix \n",
      " \n",
      "\n",
      "              precision    recall  f1-score   support\n",
      "\n",
      "           0       0.70      0.76      0.73      6961\n",
      "           1       0.73      0.66      0.70      6761\n",
      "\n",
      "    accuracy                           0.71     13722\n",
      "   macro avg       0.72      0.71      0.71     13722\n",
      "weighted avg       0.71      0.71      0.71     13722\n",
      "\n"
     ]
    },
    {
     "data": {
      "image/png": "[encoded data removed]",
      "text/plain": [
       "<Figure size 432x288 with 2 Axes>"
      ]
     },
     "metadata": {
      "needs_background": "light"
     },
     "output_type": "display_data"
    }
   ],
   "source": [
    "# Logistic Regression\n",
    "logreg = LogisticRegression()\n",
    "logreg.fit(X_train, y_train)\n",
    "y_pred = logreg.predict(X_test)\n",
    "\n",
    "\n",
    "logreg_acc = accuracy_score(y_test, y_pred)\n",
    "cm = confusion_matrix(y_test, y_pred) # Confusion matrix \n",
    "tpr_logreg = cm[1][1] /(cm[1][0] + cm[1][1])\n",
    "\n",
    "print('The accuracy score is:', logreg_acc) # accuracy score\n",
    "print('Sensitivity (TPR) =', tpr_logreg) \n",
    "\n",
    "print('\\n Confusion matrix \\n \\n')\n",
    "print(classification_report(y_test, y_pred ))\n",
    "\n",
    "plot_confusion_matrix(logreg, X_test, y_test)\n",
    "plt.show()"
   ]
  },
  {
   "cell_type": "code",
   "execution_count": 20,
   "metadata": {
    "execution": {
     "iopub.execute_input": "2022-11-03T08:33:24.313551Z",
     "iopub.status.busy": "2022-11-03T08:33:24.313056Z",
     "iopub.status.idle": "2022-11-03T08:33:45.784006Z",
     "shell.execute_reply": "2022-11-03T08:33:45.782676Z",
     "shell.execute_reply.started": "2022-11-03T08:33:24.313493Z"
    },
    "id": "AKIHnBAGJuOQ",
    "outputId": "4dd61b6d-1ab4-4c9e-8b24-722a5a3cc0b3"
   },
   "outputs": [
    {
     "name": "stdout",
     "output_type": "stream",
     "text": [
      "Accuracy for K = 1 nearest Neighbors:  0.6327794782101734\n",
      "Accuracy for K = 5 nearest Neighbors:  0.6883107418743624\n",
      "Accuracy for K = 10 nearest Neighbors:  0.7087888062964582\n",
      "Accuracy for K = 20 nearest Neighbors:  0.7173881358402565\n",
      "Accuracy for K = 30 nearest Neighbors:  0.7219064276344557\n",
      "Accuracy for K = 40 nearest Neighbors:  0.7224894330272555\n",
      "Accuracy for K = 50 nearest Neighbors:  0.7205946655006559\n"
     ]
    }
   ],
   "source": [
    "# Creating classifiers for every value of K\n",
    "classifiers = []\n",
    "nb_neighbor = [1, 5, 10, 20, 30, 40, 50]\n",
    "for i in range(len(nb_neighbor)):\n",
    "    classifiers.append(KNeighborsClassifier(nb_neighbor[i]))\n",
    "\n",
    "# Initializing the lists for accuracy, true positive rate and true negative rate\n",
    "# Later used to compare the classifiers for different values of K\n",
    "score_list = []\n",
    "true_positive = []\n",
    "true_negative = []\n",
    "\n",
    "# Fitting the training dataset for every classifier and calculating metrics\n",
    "\n",
    "index = 0\n",
    "for clf in classifiers: \n",
    "    clf.fit(X_train,y_train)\n",
    "\n",
    "    score = clf.score(X_test, y_test)    \n",
    "    y_pred = clf.predict(X_test)\n",
    "    \n",
    "    print(f\"Accuracy for K =\", nb_neighbor[index] ,\"nearest Neighbors: \",  accuracy_score(y_test, y_pred))\n",
    "\n",
    "    \n",
    "    cm = confusion_matrix(y_test, y_pred) # Confusion matrix  \n",
    "\n",
    "    score_list.append(score)\n",
    "    true_positive.append(cm[1][1])\n",
    "    true_negative.append(cm[0][0])\n",
    "    \n",
    "    index = index + 1\n",
    "\n",
    "\n"
   ]
  },
  {
   "cell_type": "code",
   "execution_count": null,
   "metadata": {},
   "outputs": [],
   "source": []
  },
  {
   "cell_type": "code",
   "execution_count": null,
   "metadata": {},
   "outputs": [],
   "source": []
  },
  {
   "cell_type": "code",
   "execution_count": null,
   "metadata": {},
   "outputs": [],
   "source": []
  },
  {
   "cell_type": "code",
   "execution_count": null,
   "metadata": {},
   "outputs": [],
   "source": []
  }
 ],
 "metadata": {
  "kernelspec": {
   "display_name": "Python 3 (ipykernel)",
   "language": "python",
   "name": "python3"
  },
  "language_info": {
   "codemirror_mode": {
    "name": "ipython",
    "version": 3
   },
   "file_extension": ".py",
   "mimetype": "text/x-python",
   "name": "python",
   "nbconvert_exporter": "python",
   "pygments_lexer": "ipython3",
   "version": "3.10.5"
  }
 },
 "nbformat": 4,
 "nbformat_minor": 4
}
